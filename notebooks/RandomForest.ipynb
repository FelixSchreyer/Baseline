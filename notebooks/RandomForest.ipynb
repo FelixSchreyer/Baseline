{
 "cells": [
  {
   "cell_type": "code",
   "execution_count": null,
   "id": "af32b82de620432e",
   "metadata": {
    "ExecuteTime": {
     "end_time": "2023-11-04T22:55:07.866275Z",
     "start_time": "2023-11-04T22:55:03.877421Z"
    },
    "collapsed": false
   },
   "outputs": [],
   "source": [
    "import pandas as pd\n",
    "import numpy as np\n",
    "from sklearn.ensemble import RandomForestClassifier\n",
    "from adapt.feature_based import FA\n",
    "\n",
    "from skopt import BayesSearchCV\n",
    "from skopt.space import Categorical, Integer\n",
    "from sklearn.metrics import classification_report\n",
    "\n",
    "from sklearn.utils.class_weight import compute_class_weight\n",
    "from sklearn.metrics import confusion_matrix\n",
    "from matplotlib import pyplot as plt\n",
    "import seaborn as sns\n",
    "\n",
    "\n",
    "np.int = int\n"
   ]
  },
  {
   "cell_type": "code",
   "execution_count": null,
   "id": "initial_id",
   "metadata": {
    "ExecuteTime": {
     "end_time": "2023-11-04T22:55:07.873878Z",
     "start_time": "2023-11-04T22:55:07.867624Z"
    },
    "collapsed": true
   },
   "outputs": [],
   "source": [
    "Xs_train    = pd.read_pickle('X_s_train.pkl')\n",
    "Xs_test     = pd.read_pickle('X_s_test.pkl')[Xs_train.columns]\n",
    "Xt_train    = pd.read_pickle('X_t_train.pkl')[Xs_train.columns]\n",
    "Xt_test     = pd.read_pickle('X_t_test.pkl')[Xs_train.columns]\n",
    "ys_train    = pd.read_pickle('y_s_train.pkl')\n",
    "ys_test     = pd.read_pickle('y_s_test.pkl')\n",
    "yt_train    = pd.read_pickle('y_t_train.pkl')\n",
    "yt_test     = pd.read_pickle('y_t_test.pkl')"
   ]
  },
  {
   "cell_type": "code",
   "execution_count": null,
   "id": "a18acecbbe498987",
   "metadata": {
    "ExecuteTime": {
     "end_time": "2023-11-04T22:55:07.878311Z",
     "start_time": "2023-11-04T22:55:07.875074Z"
    },
    "collapsed": false
   },
   "outputs": [],
   "source": [
    "def conf_matrix(y_true, y_pred):\n",
    "    cm = confusion_matrix(y_true=y_true, y_pred=y_pred)\n",
    "    # Define class labels (change to your own class labels)\n",
    "    class_labels = [\"Class 1\", \"Class 2\", \"Class 3\"]\n",
    "    \n",
    "    # Create a heatmap of the confusion matrix\n",
    "    plt.figure(figsize=(8, 6))\n",
    "    sns.set(font_scale=1.2)  # Adjust the font scale for better readability\n",
    "    sns.heatmap(cm, annot=True, cmap=\"Blues\", fmt=\"d\", cbar=False, square=True,\n",
    "                xticklabels=class_labels, yticklabels=class_labels)\n",
    "    \n",
    "    plt.xlabel('Predicted')\n",
    "    plt.ylabel('Actual')\n",
    "    plt.title('Confusion Matrix')\n",
    "    plt.show()"
   ]
  },
  {
   "cell_type": "code",
   "execution_count": null,
   "id": "604a414c2b91091",
   "metadata": {
    "ExecuteTime": {
     "end_time": "2023-11-04T22:55:07.883294Z",
     "start_time": "2023-11-04T22:55:07.878640Z"
    },
    "collapsed": false
   },
   "outputs": [],
   "source": [
    "class_weights = compute_class_weight('balanced', classes=np.unique(ys_train), y=ys_train)"
   ]
  },
  {
   "cell_type": "code",
   "execution_count": null,
   "id": "bca8a54f6d19bdd0",
   "metadata": {
    "ExecuteTime": {
     "end_time": "2023-11-05T11:54:27.761052Z",
     "start_time": "2023-11-05T11:54:17.637254Z"
    },
    "collapsed": false
   },
   "outputs": [],
   "source": [
    "from sklearn.model_selection import GridSearchCV\n",
    "\n",
    "forest_clf = RandomForestClassifier(class_weight={idx + 1: weight for idx, weight in enumerate(class_weights)})\n",
    "\n",
    "search_space = {\n",
    "        \"bootstrap\": Categorical([True, False]), # values for boostrap can be either True or False\n",
    "        \"max_depth\": Integer(1, 10), \n",
    "        \"max_features\": Categorical(['sqrt','log2']), \n",
    "        \"min_samples_leaf\": Integer(5, 15),\n",
    "        \"min_samples_split\": Integer(7, 10),\n",
    "        \"n_estimators\": Integer(50, 1000)\n",
    "    }\n",
    "\n",
    "search_space = {\n",
    "        \"bootstrap\": [False], \n",
    "        \"max_depth\": list(range(5, 16)), \n",
    "        \"max_features\": ['sqrt','log2'], \n",
    "        \"min_samples_leaf\": list(range(8, 13)),\n",
    "        \"min_samples_split\": list(range(7, 11)),\n",
    "        \"n_estimators\": list(range(120, 801))\n",
    "    }\n",
    "\n",
    "forest_bayes_search = BayesSearchCV(forest_clf, search_space, n_iter=150,\n",
    "                                    scoring=\"f1_weighted\", cv=5\n",
    "                                    )\n",
    "grid_search = GridSearchCV(estimator=forest_clf, param_grid=search_space, cv=5, scoring='neg_log_loss', n_jobs=-1)\n",
    "grid_search.fit(Xs_train, ys_train)\n",
    "#forest_bayes_search.fit(Xs_train, ys_train)\n",
    "\n",
    "#best_params = forest_bayes_search.best_params_\n",
    "#best_model = forest_bayes_search.best_estimator_\n",
    "best_params = grid_search.best_params_\n",
    "best_model = grid_search.best_estimator_"
   ]
  },
  {
   "cell_type": "code",
   "execution_count": null,
   "id": "aab8fe50077df4fc",
   "metadata": {
    "ExecuteTime": {
     "start_time": "2023-11-05T11:54:27.757481Z"
    },
    "collapsed": false
   },
   "outputs": [],
   "source": [
    "best_params"
   ]
  },
  {
   "cell_type": "code",
   "execution_count": null,
   "id": "9398dc4222b88358",
   "metadata": {
    "ExecuteTime": {
     "end_time": "2023-11-05T11:54:39.177422Z",
     "start_time": "2023-11-05T11:54:38.991885Z"
    },
    "collapsed": false
   },
   "outputs": [],
   "source": [
    "print('--------------- TRAIN -----------------------')\n",
    "conf_matrix(ys_train, best_model.predict(Xs_train))\n",
    "print(classification_report(ys_train, best_model.predict(Xs_train)))\n",
    "print('--------------- TEST -----------------------')\n",
    "conf_matrix(ys_test, best_model.predict(Xs_test))\n",
    "print(classification_report(ys_test, best_model.predict(Xs_test)))"
   ]
  },
  {
   "cell_type": "code",
   "execution_count": null,
   "id": "c2d1eabf0d577eb4",
   "metadata": {
    "ExecuteTime": {
     "start_time": "2023-11-05T11:54:27.760089Z"
    },
    "collapsed": false
   },
   "outputs": [],
   "source": [
    "def subsample_df(df, y, percentage):\n",
    "    size_by_id = Xt_train.index.get_level_values(0).value_counts()\n",
    "    number_rows_to_select = (size_by_id * percentage).astype(int)\n",
    "    \n",
    "    df_to_create = pd.DataFrame(columns=df.columns)\n",
    "    selected_indices = []\n",
    "\n",
    "    for id, id_group in df.groupby(level=0):\n",
    "        selected_rows = id_group.sample(n=number_rows_to_select[id], random_state=42)\n",
    "        df_to_create = pd.concat([df_to_create, selected_rows])\n",
    "        selected_indices.extend(selected_rows.index)\n",
    "\n",
    "    y_to_create = y.loc[selected_indices]\n",
    "    \n",
    "    return df_to_create, y_to_create\n"
   ]
  },
  {
   "cell_type": "code",
   "execution_count": null,
   "id": "a6ad6dd5a6d7cfd3",
   "metadata": {
    "ExecuteTime": {
     "start_time": "2023-11-05T11:54:27.760831Z"
    },
    "collapsed": false
   },
   "outputs": [],
   "source": [
    "#percent_to_select = 0.5  \n",
    "#group_sizes = Xt_train.index.get_level_values(0)\n",
    "#group_sizes = Xt_train.index.get_level_values(0).value_counts()\n",
    "#rows_to_select = (group_sizes * percent_to_select).astype(int)\n",
    "#selected_df = pd.DataFrame(columns=Xt_train.columns)\n",
    "#selected_indices = []\n",
    "# Randomly select rows for each ID\n",
    "#for id_value, group in Xt_train.groupby(level=0):\n",
    "#    selected_rows = group.sample(n=rows_to_select[id_value], random_state=42)\n",
    "#    selected_df = pd.concat([selected_df, selected_rows])\n",
    "#    selected_indices.extend(selected_rows.index)\n",
    "\n",
    "# Reset the index of the selected DataFrame\n",
    "#selected_df.reset_index(inplace=True)\n",
    "#y_values = yt_train.loc[selected_indices]\n",
    "\n",
    "selected_df, y_values = subsample_df(Xt_train, yt_train, 0.9)\n",
    "\n",
    "model = FA(best_model, Xt=selected_df, yt=y_values, random_state=0)\n",
    "\n",
    "model.fit(Xs_train, ys_train)\n",
    "model.fit_transform(Xs_train, Xt_train, ys_train, yt_train)\n",
    "\n",
    "\n",
    "model.score(Xt_train, yt_train)\n",
    "model.score(Xt_test, yt_test)"
   ]
  },
  {
   "cell_type": "code",
   "execution_count": null,
   "id": "1fbcf429ab3425e0",
   "metadata": {
    "ExecuteTime": {
     "start_time": "2023-11-05T11:54:27.761611Z"
    },
    "collapsed": false
   },
   "outputs": [],
   "source": [
    "print(classification_report(yt_train, model.predict(Xt_train)))"
   ]
  },
  {
   "cell_type": "code",
   "execution_count": null,
   "id": "1754cc77de0b741c",
   "metadata": {
    "ExecuteTime": {
     "end_time": "2023-11-05T11:54:32.014071Z",
     "start_time": "2023-11-05T11:54:31.848085Z"
    },
    "collapsed": false
   },
   "outputs": [],
   "source": [
    "conf_matrix(yt_train, model.predict(Xt_train))\n",
    "conf_matrix(yt_test, model.predict(Xt_test))\n"
   ]
  },
  {
   "cell_type": "code",
   "execution_count": null,
   "id": "f8802684",
   "metadata": {},
   "outputs": [],
   "source": []
  }
 ],
 "metadata": {
  "kernelspec": {
   "display_name": "Python 3",
   "language": "python",
   "name": "python3"
  },
  "language_info": {
   "codemirror_mode": {
    "name": "ipython",
    "version": 3
   },
   "file_extension": ".py",
   "mimetype": "text/x-python",
   "name": "python",
   "nbconvert_exporter": "python",
   "pygments_lexer": "ipython3",
   "version": "3.9.17"
  }
 },
 "nbformat": 4,
 "nbformat_minor": 5
}
