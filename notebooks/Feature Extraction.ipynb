{
 "cells": [
  {
   "cell_type": "code",
   "execution_count": 1,
   "metadata": {
    "ExecuteTime": {
     "end_time": "2023-09-25T20:57:04.568869Z",
     "start_time": "2023-09-25T20:57:03.331358Z"
    }
   },
   "outputs": [],
   "source": [
    "import pandas as pd\n",
    "import dask.dataframe as dd\n",
    "from tsfresh import extract_features, select_features\n",
    "from tsfresh.feature_extraction import ComprehensiveFCParameters\n",
    "from tsfresh.utilities.dataframe_functions import impute"
   ]
  },
  {
   "cell_type": "markdown",
   "metadata": {},
   "source": [
    "# Extract Features"
   ]
  },
  {
   "cell_type": "code",
   "execution_count": null,
   "metadata": {},
   "outputs": [],
   "source": [
    "df = pd.read_pickle('df_feature.pkl')\n",
    "\n",
    "extracted_features = extract_features(df, column_id='id', column_sort='time', default_fc_parameters= ComprehensiveFCParameters(), impute_function=impute)\n",
    "\n",
    "extracted_features.to_pickle('df_feature_all.pkl')\n"
   ]
  },
  {
   "cell_type": "markdown",
   "metadata": {},
   "source": [
    "# Feature Selection"
   ]
  },
  {
   "cell_type": "code",
   "execution_count": 8,
   "metadata": {
    "ExecuteTime": {
     "end_time": "2023-09-25T15:44:55.851286Z",
     "start_time": "2023-09-25T15:44:55.840773Z"
    }
   },
   "outputs": [
    {
     "ename": "ImportError",
     "evalue": "cannot import name 'calculate_relevance_table' from 'tsfresh.feature_selection' (/Users/felixschreyer/anaconda3/envs/Testing/lib/python3.11/site-packages/tsfresh/feature_selection/__init__.py)",
     "output_type": "error",
     "traceback": [
      "\u001B[0;31m---------------------------------------------------------------------------\u001B[0m",
      "\u001B[0;31mImportError\u001B[0m                               Traceback (most recent call last)",
      "Cell \u001B[0;32mIn[8], line 4\u001B[0m\n\u001B[1;32m      2\u001B[0m \u001B[38;5;28;01mimport\u001B[39;00m \u001B[38;5;21;01mdask\u001B[39;00m\u001B[38;5;21;01m.\u001B[39;00m\u001B[38;5;21;01mdataframe\u001B[39;00m \u001B[38;5;28;01mas\u001B[39;00m \u001B[38;5;21;01mdd\u001B[39;00m\n\u001B[1;32m      3\u001B[0m \u001B[38;5;28;01mfrom\u001B[39;00m \u001B[38;5;21;01mtsfresh\u001B[39;00m \u001B[38;5;28;01mimport\u001B[39;00m extract_features, select_features\n\u001B[0;32m----> 4\u001B[0m \u001B[38;5;28;01mfrom\u001B[39;00m \u001B[38;5;21;01mtsfresh\u001B[39;00m\u001B[38;5;21;01m.\u001B[39;00m\u001B[38;5;21;01mfeature_selection\u001B[39;00m \u001B[38;5;28;01mimport\u001B[39;00m calculate_relevance_table\n",
      "\u001B[0;31mImportError\u001B[0m: cannot import name 'calculate_relevance_table' from 'tsfresh.feature_selection' (/Users/felixschreyer/anaconda3/envs/Testing/lib/python3.11/site-packages/tsfresh/feature_selection/__init__.py)"
     ]
    }
   ],
   "source": [
    "import pandas as pd\n",
    "import dask.dataframe as dd\n",
    "from tsfresh import extract_features, select_features"
   ]
  },
  {
   "cell_type": "code",
   "execution_count": 3,
   "outputs": [],
   "source": [
    "df = pd.read_pickle('df_feature.pkl')\n",
    "X = pd.read_pickle('df_feature_all.pkl')"
   ],
   "metadata": {
    "collapsed": false,
    "ExecuteTime": {
     "end_time": "2023-09-25T15:42:27.421221Z",
     "start_time": "2023-09-25T15:42:27.155237Z"
    }
   }
  },
  {
   "cell_type": "code",
   "execution_count": 4,
   "metadata": {
    "ExecuteTime": {
     "end_time": "2023-09-25T15:42:30.239964Z",
     "start_time": "2023-09-25T15:42:30.234880Z"
    }
   },
   "outputs": [],
   "source": [
    "y_s_train_distinct = df.groupby('id')['RUL_rolled_class'].last()\n"
   ]
  },
  {
   "cell_type": "code",
   "execution_count": 10,
   "outputs": [],
   "source": [
    "from tsfresh.feature_selection.relevance import calculate_relevance_table\n",
    "\n",
    "table = calculate_relevance_table(X, y_s_train_distinct, ml_task='classification', multiclass=True, show_warnings=False)"
   ],
   "metadata": {
    "collapsed": false,
    "ExecuteTime": {
     "end_time": "2023-09-25T15:46:07.169619Z",
     "start_time": "2023-09-25T15:46:02.427173Z"
    }
   }
  },
  {
   "cell_type": "code",
   "execution_count": 37,
   "outputs": [
    {
     "data": {
      "text/plain": "                                                                                              feature  \\\nfeature                                                                                                 \nx__number_cwt_peaks__n_5                                                     x__number_cwt_peaks__n_5   \ny__number_peaks__n_10                                                           y__number_peaks__n_10   \ny__number_cwt_peaks__n_1                                                     y__number_cwt_peaks__n_1   \nx__number_peaks__n_5                                                             x__number_peaks__n_5   \nx__range_count__max_1__min_-1                                           x__range_count__max_1__min_-1   \n...                                                                                               ...   \ny__number_crossing_m__m_-1                                                 y__number_crossing_m__m_-1   \ny__number_crossing_m__m_1                                                   y__number_crossing_m__m_1   \ny__count_above__t_0                                                               y__count_above__t_0   \ny__count_below__t_0                                                               y__count_below__t_0   \ny__query_similarity_count__query_None__threshol...  y__query_similarity_count__query_None__thresho...   \n\n                                                        type     p_value_1  \\\nfeature                                                                      \nx__number_cwt_peaks__n_5                                real  1.181918e-08   \ny__number_peaks__n_10                                   real  1.235788e-08   \ny__number_cwt_peaks__n_1                                real  1.236191e-08   \nx__number_peaks__n_5                                    real  1.236593e-08   \nx__range_count__max_1__min_-1                           real  1.264865e-08   \n...                                                      ...           ...   \ny__number_crossing_m__m_-1                          constant           NaN   \ny__number_crossing_m__m_1                           constant           NaN   \ny__count_above__t_0                                 constant           NaN   \ny__count_below__t_0                                 constant           NaN   \ny__query_similarity_count__query_None__threshol...  constant           NaN   \n\n                                                    relevant_1  p_value_2  \\\nfeature                                                                     \nx__number_cwt_peaks__n_5                                  True   0.000002   \ny__number_peaks__n_10                                     True   0.000002   \ny__number_cwt_peaks__n_1                                  True   0.000002   \nx__number_peaks__n_5                                      True   0.000002   \nx__range_count__max_1__min_-1                             True   0.000002   \n...                                                        ...        ...   \ny__number_crossing_m__m_-1                               False        NaN   \ny__number_crossing_m__m_1                                False        NaN   \ny__count_above__t_0                                      False        NaN   \ny__count_below__t_0                                      False        NaN   \ny__query_similarity_count__query_None__threshol...       False        NaN   \n\n                                                    relevant_2  p_value_3  \\\nfeature                                                                     \nx__number_cwt_peaks__n_5                                  True   0.003197   \ny__number_peaks__n_10                                     True   0.003196   \ny__number_cwt_peaks__n_1                                  True   0.003196   \nx__number_peaks__n_5                                      True   0.003197   \nx__range_count__max_1__min_-1                             True   0.003176   \n...                                                        ...        ...   \ny__number_crossing_m__m_-1                               False        NaN   \ny__number_crossing_m__m_1                                False        NaN   \ny__count_above__t_0                                      False        NaN   \ny__count_below__t_0                                      False        NaN   \ny__query_similarity_count__query_None__threshol...       False        NaN   \n\n                                                    relevant_3  n_significant  \\\nfeature                                                                         \nx__number_cwt_peaks__n_5                                 False              2   \ny__number_peaks__n_10                                    False              2   \ny__number_cwt_peaks__n_1                                 False              2   \nx__number_peaks__n_5                                     False              2   \nx__range_count__max_1__min_-1                            False              2   \n...                                                        ...            ...   \ny__number_crossing_m__m_-1                               False              0   \ny__number_crossing_m__m_1                                False              0   \ny__count_above__t_0                                      False              0   \ny__count_below__t_0                                      False              0   \ny__query_similarity_count__query_None__threshol...       False              0   \n\n                                                    relevant  \nfeature                                                       \nx__number_cwt_peaks__n_5                                True  \ny__number_peaks__n_10                                   True  \ny__number_cwt_peaks__n_1                                True  \nx__number_peaks__n_5                                    True  \nx__range_count__max_1__min_-1                           True  \n...                                                      ...  \ny__number_crossing_m__m_-1                             False  \ny__number_crossing_m__m_1                              False  \ny__count_above__t_0                                    False  \ny__count_below__t_0                                    False  \ny__query_similarity_count__query_None__threshol...     False  \n\n[1578 rows x 10 columns]",
      "text/html": "<div>\n<style scoped>\n    .dataframe tbody tr th:only-of-type {\n        vertical-align: middle;\n    }\n\n    .dataframe tbody tr th {\n        vertical-align: top;\n    }\n\n    .dataframe thead th {\n        text-align: right;\n    }\n</style>\n<table border=\"1\" class=\"dataframe\">\n  <thead>\n    <tr style=\"text-align: right;\">\n      <th></th>\n      <th>feature</th>\n      <th>type</th>\n      <th>p_value_1</th>\n      <th>relevant_1</th>\n      <th>p_value_2</th>\n      <th>relevant_2</th>\n      <th>p_value_3</th>\n      <th>relevant_3</th>\n      <th>n_significant</th>\n      <th>relevant</th>\n    </tr>\n    <tr>\n      <th>feature</th>\n      <th></th>\n      <th></th>\n      <th></th>\n      <th></th>\n      <th></th>\n      <th></th>\n      <th></th>\n      <th></th>\n      <th></th>\n      <th></th>\n    </tr>\n  </thead>\n  <tbody>\n    <tr>\n      <th>x__number_cwt_peaks__n_5</th>\n      <td>x__number_cwt_peaks__n_5</td>\n      <td>real</td>\n      <td>1.181918e-08</td>\n      <td>True</td>\n      <td>0.000002</td>\n      <td>True</td>\n      <td>0.003197</td>\n      <td>False</td>\n      <td>2</td>\n      <td>True</td>\n    </tr>\n    <tr>\n      <th>y__number_peaks__n_10</th>\n      <td>y__number_peaks__n_10</td>\n      <td>real</td>\n      <td>1.235788e-08</td>\n      <td>True</td>\n      <td>0.000002</td>\n      <td>True</td>\n      <td>0.003196</td>\n      <td>False</td>\n      <td>2</td>\n      <td>True</td>\n    </tr>\n    <tr>\n      <th>y__number_cwt_peaks__n_1</th>\n      <td>y__number_cwt_peaks__n_1</td>\n      <td>real</td>\n      <td>1.236191e-08</td>\n      <td>True</td>\n      <td>0.000002</td>\n      <td>True</td>\n      <td>0.003196</td>\n      <td>False</td>\n      <td>2</td>\n      <td>True</td>\n    </tr>\n    <tr>\n      <th>x__number_peaks__n_5</th>\n      <td>x__number_peaks__n_5</td>\n      <td>real</td>\n      <td>1.236593e-08</td>\n      <td>True</td>\n      <td>0.000002</td>\n      <td>True</td>\n      <td>0.003197</td>\n      <td>False</td>\n      <td>2</td>\n      <td>True</td>\n    </tr>\n    <tr>\n      <th>x__range_count__max_1__min_-1</th>\n      <td>x__range_count__max_1__min_-1</td>\n      <td>real</td>\n      <td>1.264865e-08</td>\n      <td>True</td>\n      <td>0.000002</td>\n      <td>True</td>\n      <td>0.003176</td>\n      <td>False</td>\n      <td>2</td>\n      <td>True</td>\n    </tr>\n    <tr>\n      <th>...</th>\n      <td>...</td>\n      <td>...</td>\n      <td>...</td>\n      <td>...</td>\n      <td>...</td>\n      <td>...</td>\n      <td>...</td>\n      <td>...</td>\n      <td>...</td>\n      <td>...</td>\n    </tr>\n    <tr>\n      <th>y__number_crossing_m__m_-1</th>\n      <td>y__number_crossing_m__m_-1</td>\n      <td>constant</td>\n      <td>NaN</td>\n      <td>False</td>\n      <td>NaN</td>\n      <td>False</td>\n      <td>NaN</td>\n      <td>False</td>\n      <td>0</td>\n      <td>False</td>\n    </tr>\n    <tr>\n      <th>y__number_crossing_m__m_1</th>\n      <td>y__number_crossing_m__m_1</td>\n      <td>constant</td>\n      <td>NaN</td>\n      <td>False</td>\n      <td>NaN</td>\n      <td>False</td>\n      <td>NaN</td>\n      <td>False</td>\n      <td>0</td>\n      <td>False</td>\n    </tr>\n    <tr>\n      <th>y__count_above__t_0</th>\n      <td>y__count_above__t_0</td>\n      <td>constant</td>\n      <td>NaN</td>\n      <td>False</td>\n      <td>NaN</td>\n      <td>False</td>\n      <td>NaN</td>\n      <td>False</td>\n      <td>0</td>\n      <td>False</td>\n    </tr>\n    <tr>\n      <th>y__count_below__t_0</th>\n      <td>y__count_below__t_0</td>\n      <td>constant</td>\n      <td>NaN</td>\n      <td>False</td>\n      <td>NaN</td>\n      <td>False</td>\n      <td>NaN</td>\n      <td>False</td>\n      <td>0</td>\n      <td>False</td>\n    </tr>\n    <tr>\n      <th>y__query_similarity_count__query_None__threshold_0.0</th>\n      <td>y__query_similarity_count__query_None__thresho...</td>\n      <td>constant</td>\n      <td>NaN</td>\n      <td>False</td>\n      <td>NaN</td>\n      <td>False</td>\n      <td>NaN</td>\n      <td>False</td>\n      <td>0</td>\n      <td>False</td>\n    </tr>\n  </tbody>\n</table>\n<p>1578 rows × 10 columns</p>\n</div>"
     },
     "execution_count": 37,
     "metadata": {},
     "output_type": "execute_result"
    }
   ],
   "source": [
    "table"
   ],
   "metadata": {
    "collapsed": false,
    "ExecuteTime": {
     "end_time": "2023-09-25T15:58:05.921083Z",
     "start_time": "2023-09-25T15:58:05.912258Z"
    }
   }
  },
  {
   "cell_type": "code",
   "execution_count": 34,
   "outputs": [
    {
     "data": {
      "text/plain": "                                                                                              feature  \\\nfeature                                                                                                 \nx__abs_energy                                                                           x__abs_energy   \nx__cid_ce__normalize_True                                                   x__cid_ce__normalize_True   \nx__count_below_mean                                                               x__count_below_mean   \nx__fft_coefficient__attr_\"abs\"__coeff_0                       x__fft_coefficient__attr_\"abs\"__coeff_0   \nx__fft_coefficient__attr_\"real\"__coeff_0                     x__fft_coefficient__attr_\"real\"__coeff_0   \nx__length                                                                                   x__length   \nx__number_cwt_peaks__n_1                                                     x__number_cwt_peaks__n_1   \nx__number_cwt_peaks__n_5                                                     x__number_cwt_peaks__n_5   \nx__number_peaks__n_3                                                             x__number_peaks__n_3   \nx__number_peaks__n_5                                                             x__number_peaks__n_5   \nx__range_count__max_1000000000000.0__min_0                 x__range_count__max_1000000000000.0__min_0   \nx__range_count__max_1__min_-1                                           x__range_count__max_1__min_-1   \nx__ratio_beyond_r_sigma__r_10                                           x__ratio_beyond_r_sigma__r_10   \nx__sum_of_reoccurring_data_points                                   x__sum_of_reoccurring_data_points   \nx__sum_of_reoccurring_values                                             x__sum_of_reoccurring_values   \nx__sum_values                                                                           x__sum_values   \ny__cid_ce__normalize_True                                                   y__cid_ce__normalize_True   \ny__fft_coefficient__attr_\"abs\"__coeff_0                       y__fft_coefficient__attr_\"abs\"__coeff_0   \ny__fft_coefficient__attr_\"real\"__coeff_0                     y__fft_coefficient__attr_\"real\"__coeff_0   \ny__length                                                                                   y__length   \ny__number_cwt_peaks__n_1                                                     y__number_cwt_peaks__n_1   \ny__number_peaks__n_1                                                             y__number_peaks__n_1   \ny__number_peaks__n_10                                                           y__number_peaks__n_10   \ny__number_peaks__n_3                                                             y__number_peaks__n_3   \ny__percentage_of_reoccurring_datapoints_to_all_...  y__percentage_of_reoccurring_datapoints_to_all...   \ny__percentage_of_reoccurring_values_to_all_values   y__percentage_of_reoccurring_values_to_all_values   \ny__permutation_entropy__dimension_6__tau_1                 y__permutation_entropy__dimension_6__tau_1   \ny__range_count__max_1000000000000.0__min_0                 y__range_count__max_1000000000000.0__min_0   \ny__range_count__max_1__min_-1                                           y__range_count__max_1__min_-1   \ny__sum_of_reoccurring_data_points                                   y__sum_of_reoccurring_data_points   \ny__sum_of_reoccurring_values                                             y__sum_of_reoccurring_values   \ny__sum_values                                                                           y__sum_values   \n\n                                                    type     p_value_1  \\\nfeature                                                                  \nx__abs_energy                                       real  2.771913e-08   \nx__cid_ce__normalize_True                           real  1.417667e-08   \nx__count_below_mean                                 real  1.354402e-08   \nx__fft_coefficient__attr_\"abs\"__coeff_0             real  1.483081e-08   \nx__fft_coefficient__attr_\"real\"__coeff_0            real  1.483081e-08   \nx__length                                           real  1.264865e-08   \nx__number_cwt_peaks__n_1                            real  1.354347e-08   \nx__number_cwt_peaks__n_5                            real  1.181918e-08   \nx__number_peaks__n_3                                real  1.353635e-08   \nx__number_peaks__n_5                                real  1.236593e-08   \nx__range_count__max_1000000000000.0__min_0          real  1.264865e-08   \nx__range_count__max_1__min_-1                       real  1.264865e-08   \nx__ratio_beyond_r_sigma__r_10                       real  1.081253e-05   \nx__sum_of_reoccurring_data_points                   real  1.856687e-08   \nx__sum_of_reoccurring_values                        real  2.321029e-08   \nx__sum_values                                       real  1.483081e-08   \ny__cid_ce__normalize_True                           real  1.417667e-08   \ny__fft_coefficient__attr_\"abs\"__coeff_0             real  2.030445e-08   \ny__fft_coefficient__attr_\"real\"__coeff_0            real  2.030445e-08   \ny__length                                           real  1.264865e-08   \ny__number_cwt_peaks__n_1                            real  1.236191e-08   \ny__number_peaks__n_1                                real  1.354237e-08   \ny__number_peaks__n_10                               real  1.235788e-08   \ny__number_peaks__n_3                                real  1.354292e-08   \ny__percentage_of_reoccurring_datapoints_to_all_...  real  1.622819e-08   \ny__percentage_of_reoccurring_values_to_all_values   real  3.455958e-08   \ny__permutation_entropy__dimension_6__tau_1          real  1.856687e-08   \ny__range_count__max_1000000000000.0__min_0          real  1.264865e-08   \ny__range_count__max_1__min_-1                       real  1.264865e-08   \ny__sum_of_reoccurring_data_points                   real  1.941679e-08   \ny__sum_of_reoccurring_values                        real  2.426572e-08   \ny__sum_values                                       real  2.030445e-08   \n\n                                                    relevant_1  p_value_2  \\\nfeature                                                                     \nx__abs_energy                                             True   0.000004   \nx__cid_ce__normalize_True                                 True   0.000002   \nx__count_below_mean                                       True   0.000002   \nx__fft_coefficient__attr_\"abs\"__coeff_0                   True   0.000002   \nx__fft_coefficient__attr_\"real\"__coeff_0                  True   0.000002   \nx__length                                                 True   0.000002   \nx__number_cwt_peaks__n_1                                  True   0.000002   \nx__number_cwt_peaks__n_5                                  True   0.000002   \nx__number_peaks__n_3                                      True   0.000002   \nx__number_peaks__n_5                                      True   0.000002   \nx__range_count__max_1000000000000.0__min_0                True   0.000002   \nx__range_count__max_1__min_-1                             True   0.000002   \nx__ratio_beyond_r_sigma__r_10                             True   0.118331   \nx__sum_of_reoccurring_data_points                         True   0.000003   \nx__sum_of_reoccurring_values                              True   0.000004   \nx__sum_values                                             True   0.000002   \ny__cid_ce__normalize_True                                 True   0.000002   \ny__fft_coefficient__attr_\"abs\"__coeff_0                   True   0.000003   \ny__fft_coefficient__attr_\"real\"__coeff_0                  True   0.000003   \ny__length                                                 True   0.000002   \ny__number_cwt_peaks__n_1                                  True   0.000002   \ny__number_peaks__n_1                                      True   0.000002   \ny__number_peaks__n_10                                     True   0.000002   \ny__number_peaks__n_3                                      True   0.000002   \ny__percentage_of_reoccurring_datapoints_to_all_...        True   0.000002   \ny__percentage_of_reoccurring_values_to_all_values         True   0.000002   \ny__permutation_entropy__dimension_6__tau_1                True   0.000003   \ny__range_count__max_1000000000000.0__min_0                True   0.000002   \ny__range_count__max_1__min_-1                             True   0.000002   \ny__sum_of_reoccurring_data_points                         True   0.000003   \ny__sum_of_reoccurring_values                              True   0.000004   \ny__sum_values                                             True   0.000003   \n\n                                                    relevant_2     p_value_3  \\\nfeature                                                                        \nx__abs_energy                                             True  4.987593e-06   \nx__cid_ce__normalize_True                                 True  4.987593e-06   \nx__count_below_mean                                       True  3.196998e-03   \nx__fft_coefficient__attr_\"abs\"__coeff_0                   True  4.987593e-06   \nx__fft_coefficient__attr_\"real\"__coeff_0                  True  4.987593e-06   \nx__length                                                 True  3.175847e-03   \nx__number_cwt_peaks__n_1                                  True  3.196961e-03   \nx__number_cwt_peaks__n_5                                  True  3.196663e-03   \nx__number_peaks__n_3                                      True  3.196477e-03   \nx__number_peaks__n_5                                      True  3.196552e-03   \nx__range_count__max_1000000000000.0__min_0                True  3.175847e-03   \nx__range_count__max_1__min_-1                             True  3.175847e-03   \nx__ratio_beyond_r_sigma__r_10                            False  5.330537e-09   \nx__sum_of_reoccurring_data_points                         True  4.987593e-06   \nx__sum_of_reoccurring_values                              True  4.987593e-06   \nx__sum_values                                             True  4.987593e-06   \ny__cid_ce__normalize_True                                 True  4.987593e-06   \ny__fft_coefficient__attr_\"abs\"__coeff_0                   True  4.987593e-06   \ny__fft_coefficient__attr_\"real\"__coeff_0                  True  4.987593e-06   \ny__length                                                 True  3.175847e-03   \ny__number_cwt_peaks__n_1                                  True  3.196254e-03   \ny__number_peaks__n_1                                      True  3.196886e-03   \ny__number_peaks__n_10                                     True  3.195957e-03   \ny__number_peaks__n_3                                      True  3.196923e-03   \ny__percentage_of_reoccurring_datapoints_to_all_...        True  1.546154e-04   \ny__percentage_of_reoccurring_values_to_all_values         True  1.092581e-02   \ny__permutation_entropy__dimension_6__tau_1                True  4.987593e-06   \ny__range_count__max_1000000000000.0__min_0                True  3.175847e-03   \ny__range_count__max_1__min_-1                             True  3.175847e-03   \ny__sum_of_reoccurring_data_points                         True  4.987593e-06   \ny__sum_of_reoccurring_values                              True  4.987593e-06   \ny__sum_values                                             True  4.987593e-06   \n\n                                                    relevant_3  n_significant  \\\nfeature                                                                         \nx__abs_energy                                             True              3   \nx__cid_ce__normalize_True                                 True              3   \nx__count_below_mean                                      False              2   \nx__fft_coefficient__attr_\"abs\"__coeff_0                   True              3   \nx__fft_coefficient__attr_\"real\"__coeff_0                  True              3   \nx__length                                                False              2   \nx__number_cwt_peaks__n_1                                 False              2   \nx__number_cwt_peaks__n_5                                 False              2   \nx__number_peaks__n_3                                     False              2   \nx__number_peaks__n_5                                     False              2   \nx__range_count__max_1000000000000.0__min_0               False              2   \nx__range_count__max_1__min_-1                            False              2   \nx__ratio_beyond_r_sigma__r_10                             True              2   \nx__sum_of_reoccurring_data_points                         True              3   \nx__sum_of_reoccurring_values                              True              3   \nx__sum_values                                             True              3   \ny__cid_ce__normalize_True                                 True              3   \ny__fft_coefficient__attr_\"abs\"__coeff_0                   True              3   \ny__fft_coefficient__attr_\"real\"__coeff_0                  True              3   \ny__length                                                False              2   \ny__number_cwt_peaks__n_1                                 False              2   \ny__number_peaks__n_1                                     False              2   \ny__number_peaks__n_10                                    False              2   \ny__number_peaks__n_3                                     False              2   \ny__percentage_of_reoccurring_datapoints_to_all_...        True              3   \ny__percentage_of_reoccurring_values_to_all_values        False              2   \ny__permutation_entropy__dimension_6__tau_1                True              3   \ny__range_count__max_1000000000000.0__min_0               False              2   \ny__range_count__max_1__min_-1                            False              2   \ny__sum_of_reoccurring_data_points                         True              3   \ny__sum_of_reoccurring_values                              True              3   \ny__sum_values                                             True              3   \n\n                                                    relevant  \nfeature                                                       \nx__abs_energy                                           True  \nx__cid_ce__normalize_True                               True  \nx__count_below_mean                                     True  \nx__fft_coefficient__attr_\"abs\"__coeff_0                 True  \nx__fft_coefficient__attr_\"real\"__coeff_0                True  \nx__length                                               True  \nx__number_cwt_peaks__n_1                                True  \nx__number_cwt_peaks__n_5                                True  \nx__number_peaks__n_3                                    True  \nx__number_peaks__n_5                                    True  \nx__range_count__max_1000000000000.0__min_0              True  \nx__range_count__max_1__min_-1                           True  \nx__ratio_beyond_r_sigma__r_10                           True  \nx__sum_of_reoccurring_data_points                       True  \nx__sum_of_reoccurring_values                            True  \nx__sum_values                                           True  \ny__cid_ce__normalize_True                               True  \ny__fft_coefficient__attr_\"abs\"__coeff_0                 True  \ny__fft_coefficient__attr_\"real\"__coeff_0                True  \ny__length                                               True  \ny__number_cwt_peaks__n_1                                True  \ny__number_peaks__n_1                                    True  \ny__number_peaks__n_10                                   True  \ny__number_peaks__n_3                                    True  \ny__percentage_of_reoccurring_datapoints_to_all_...      True  \ny__percentage_of_reoccurring_values_to_all_values       True  \ny__permutation_entropy__dimension_6__tau_1              True  \ny__range_count__max_1000000000000.0__min_0              True  \ny__range_count__max_1__min_-1                           True  \ny__sum_of_reoccurring_data_points                       True  \ny__sum_of_reoccurring_values                            True  \ny__sum_values                                           True  ",
      "text/html": "<div>\n<style scoped>\n    .dataframe tbody tr th:only-of-type {\n        vertical-align: middle;\n    }\n\n    .dataframe tbody tr th {\n        vertical-align: top;\n    }\n\n    .dataframe thead th {\n        text-align: right;\n    }\n</style>\n<table border=\"1\" class=\"dataframe\">\n  <thead>\n    <tr style=\"text-align: right;\">\n      <th></th>\n      <th>feature</th>\n      <th>type</th>\n      <th>p_value_1</th>\n      <th>relevant_1</th>\n      <th>p_value_2</th>\n      <th>relevant_2</th>\n      <th>p_value_3</th>\n      <th>relevant_3</th>\n      <th>n_significant</th>\n      <th>relevant</th>\n    </tr>\n    <tr>\n      <th>feature</th>\n      <th></th>\n      <th></th>\n      <th></th>\n      <th></th>\n      <th></th>\n      <th></th>\n      <th></th>\n      <th></th>\n      <th></th>\n      <th></th>\n    </tr>\n  </thead>\n  <tbody>\n    <tr>\n      <th>x__abs_energy</th>\n      <td>x__abs_energy</td>\n      <td>real</td>\n      <td>2.771913e-08</td>\n      <td>True</td>\n      <td>0.000004</td>\n      <td>True</td>\n      <td>4.987593e-06</td>\n      <td>True</td>\n      <td>3</td>\n      <td>True</td>\n    </tr>\n    <tr>\n      <th>x__cid_ce__normalize_True</th>\n      <td>x__cid_ce__normalize_True</td>\n      <td>real</td>\n      <td>1.417667e-08</td>\n      <td>True</td>\n      <td>0.000002</td>\n      <td>True</td>\n      <td>4.987593e-06</td>\n      <td>True</td>\n      <td>3</td>\n      <td>True</td>\n    </tr>\n    <tr>\n      <th>x__count_below_mean</th>\n      <td>x__count_below_mean</td>\n      <td>real</td>\n      <td>1.354402e-08</td>\n      <td>True</td>\n      <td>0.000002</td>\n      <td>True</td>\n      <td>3.196998e-03</td>\n      <td>False</td>\n      <td>2</td>\n      <td>True</td>\n    </tr>\n    <tr>\n      <th>x__fft_coefficient__attr_\"abs\"__coeff_0</th>\n      <td>x__fft_coefficient__attr_\"abs\"__coeff_0</td>\n      <td>real</td>\n      <td>1.483081e-08</td>\n      <td>True</td>\n      <td>0.000002</td>\n      <td>True</td>\n      <td>4.987593e-06</td>\n      <td>True</td>\n      <td>3</td>\n      <td>True</td>\n    </tr>\n    <tr>\n      <th>x__fft_coefficient__attr_\"real\"__coeff_0</th>\n      <td>x__fft_coefficient__attr_\"real\"__coeff_0</td>\n      <td>real</td>\n      <td>1.483081e-08</td>\n      <td>True</td>\n      <td>0.000002</td>\n      <td>True</td>\n      <td>4.987593e-06</td>\n      <td>True</td>\n      <td>3</td>\n      <td>True</td>\n    </tr>\n    <tr>\n      <th>x__length</th>\n      <td>x__length</td>\n      <td>real</td>\n      <td>1.264865e-08</td>\n      <td>True</td>\n      <td>0.000002</td>\n      <td>True</td>\n      <td>3.175847e-03</td>\n      <td>False</td>\n      <td>2</td>\n      <td>True</td>\n    </tr>\n    <tr>\n      <th>x__number_cwt_peaks__n_1</th>\n      <td>x__number_cwt_peaks__n_1</td>\n      <td>real</td>\n      <td>1.354347e-08</td>\n      <td>True</td>\n      <td>0.000002</td>\n      <td>True</td>\n      <td>3.196961e-03</td>\n      <td>False</td>\n      <td>2</td>\n      <td>True</td>\n    </tr>\n    <tr>\n      <th>x__number_cwt_peaks__n_5</th>\n      <td>x__number_cwt_peaks__n_5</td>\n      <td>real</td>\n      <td>1.181918e-08</td>\n      <td>True</td>\n      <td>0.000002</td>\n      <td>True</td>\n      <td>3.196663e-03</td>\n      <td>False</td>\n      <td>2</td>\n      <td>True</td>\n    </tr>\n    <tr>\n      <th>x__number_peaks__n_3</th>\n      <td>x__number_peaks__n_3</td>\n      <td>real</td>\n      <td>1.353635e-08</td>\n      <td>True</td>\n      <td>0.000002</td>\n      <td>True</td>\n      <td>3.196477e-03</td>\n      <td>False</td>\n      <td>2</td>\n      <td>True</td>\n    </tr>\n    <tr>\n      <th>x__number_peaks__n_5</th>\n      <td>x__number_peaks__n_5</td>\n      <td>real</td>\n      <td>1.236593e-08</td>\n      <td>True</td>\n      <td>0.000002</td>\n      <td>True</td>\n      <td>3.196552e-03</td>\n      <td>False</td>\n      <td>2</td>\n      <td>True</td>\n    </tr>\n    <tr>\n      <th>x__range_count__max_1000000000000.0__min_0</th>\n      <td>x__range_count__max_1000000000000.0__min_0</td>\n      <td>real</td>\n      <td>1.264865e-08</td>\n      <td>True</td>\n      <td>0.000002</td>\n      <td>True</td>\n      <td>3.175847e-03</td>\n      <td>False</td>\n      <td>2</td>\n      <td>True</td>\n    </tr>\n    <tr>\n      <th>x__range_count__max_1__min_-1</th>\n      <td>x__range_count__max_1__min_-1</td>\n      <td>real</td>\n      <td>1.264865e-08</td>\n      <td>True</td>\n      <td>0.000002</td>\n      <td>True</td>\n      <td>3.175847e-03</td>\n      <td>False</td>\n      <td>2</td>\n      <td>True</td>\n    </tr>\n    <tr>\n      <th>x__ratio_beyond_r_sigma__r_10</th>\n      <td>x__ratio_beyond_r_sigma__r_10</td>\n      <td>real</td>\n      <td>1.081253e-05</td>\n      <td>True</td>\n      <td>0.118331</td>\n      <td>False</td>\n      <td>5.330537e-09</td>\n      <td>True</td>\n      <td>2</td>\n      <td>True</td>\n    </tr>\n    <tr>\n      <th>x__sum_of_reoccurring_data_points</th>\n      <td>x__sum_of_reoccurring_data_points</td>\n      <td>real</td>\n      <td>1.856687e-08</td>\n      <td>True</td>\n      <td>0.000003</td>\n      <td>True</td>\n      <td>4.987593e-06</td>\n      <td>True</td>\n      <td>3</td>\n      <td>True</td>\n    </tr>\n    <tr>\n      <th>x__sum_of_reoccurring_values</th>\n      <td>x__sum_of_reoccurring_values</td>\n      <td>real</td>\n      <td>2.321029e-08</td>\n      <td>True</td>\n      <td>0.000004</td>\n      <td>True</td>\n      <td>4.987593e-06</td>\n      <td>True</td>\n      <td>3</td>\n      <td>True</td>\n    </tr>\n    <tr>\n      <th>x__sum_values</th>\n      <td>x__sum_values</td>\n      <td>real</td>\n      <td>1.483081e-08</td>\n      <td>True</td>\n      <td>0.000002</td>\n      <td>True</td>\n      <td>4.987593e-06</td>\n      <td>True</td>\n      <td>3</td>\n      <td>True</td>\n    </tr>\n    <tr>\n      <th>y__cid_ce__normalize_True</th>\n      <td>y__cid_ce__normalize_True</td>\n      <td>real</td>\n      <td>1.417667e-08</td>\n      <td>True</td>\n      <td>0.000002</td>\n      <td>True</td>\n      <td>4.987593e-06</td>\n      <td>True</td>\n      <td>3</td>\n      <td>True</td>\n    </tr>\n    <tr>\n      <th>y__fft_coefficient__attr_\"abs\"__coeff_0</th>\n      <td>y__fft_coefficient__attr_\"abs\"__coeff_0</td>\n      <td>real</td>\n      <td>2.030445e-08</td>\n      <td>True</td>\n      <td>0.000003</td>\n      <td>True</td>\n      <td>4.987593e-06</td>\n      <td>True</td>\n      <td>3</td>\n      <td>True</td>\n    </tr>\n    <tr>\n      <th>y__fft_coefficient__attr_\"real\"__coeff_0</th>\n      <td>y__fft_coefficient__attr_\"real\"__coeff_0</td>\n      <td>real</td>\n      <td>2.030445e-08</td>\n      <td>True</td>\n      <td>0.000003</td>\n      <td>True</td>\n      <td>4.987593e-06</td>\n      <td>True</td>\n      <td>3</td>\n      <td>True</td>\n    </tr>\n    <tr>\n      <th>y__length</th>\n      <td>y__length</td>\n      <td>real</td>\n      <td>1.264865e-08</td>\n      <td>True</td>\n      <td>0.000002</td>\n      <td>True</td>\n      <td>3.175847e-03</td>\n      <td>False</td>\n      <td>2</td>\n      <td>True</td>\n    </tr>\n    <tr>\n      <th>y__number_cwt_peaks__n_1</th>\n      <td>y__number_cwt_peaks__n_1</td>\n      <td>real</td>\n      <td>1.236191e-08</td>\n      <td>True</td>\n      <td>0.000002</td>\n      <td>True</td>\n      <td>3.196254e-03</td>\n      <td>False</td>\n      <td>2</td>\n      <td>True</td>\n    </tr>\n    <tr>\n      <th>y__number_peaks__n_1</th>\n      <td>y__number_peaks__n_1</td>\n      <td>real</td>\n      <td>1.354237e-08</td>\n      <td>True</td>\n      <td>0.000002</td>\n      <td>True</td>\n      <td>3.196886e-03</td>\n      <td>False</td>\n      <td>2</td>\n      <td>True</td>\n    </tr>\n    <tr>\n      <th>y__number_peaks__n_10</th>\n      <td>y__number_peaks__n_10</td>\n      <td>real</td>\n      <td>1.235788e-08</td>\n      <td>True</td>\n      <td>0.000002</td>\n      <td>True</td>\n      <td>3.195957e-03</td>\n      <td>False</td>\n      <td>2</td>\n      <td>True</td>\n    </tr>\n    <tr>\n      <th>y__number_peaks__n_3</th>\n      <td>y__number_peaks__n_3</td>\n      <td>real</td>\n      <td>1.354292e-08</td>\n      <td>True</td>\n      <td>0.000002</td>\n      <td>True</td>\n      <td>3.196923e-03</td>\n      <td>False</td>\n      <td>2</td>\n      <td>True</td>\n    </tr>\n    <tr>\n      <th>y__percentage_of_reoccurring_datapoints_to_all_datapoints</th>\n      <td>y__percentage_of_reoccurring_datapoints_to_all...</td>\n      <td>real</td>\n      <td>1.622819e-08</td>\n      <td>True</td>\n      <td>0.000002</td>\n      <td>True</td>\n      <td>1.546154e-04</td>\n      <td>True</td>\n      <td>3</td>\n      <td>True</td>\n    </tr>\n    <tr>\n      <th>y__percentage_of_reoccurring_values_to_all_values</th>\n      <td>y__percentage_of_reoccurring_values_to_all_values</td>\n      <td>real</td>\n      <td>3.455958e-08</td>\n      <td>True</td>\n      <td>0.000002</td>\n      <td>True</td>\n      <td>1.092581e-02</td>\n      <td>False</td>\n      <td>2</td>\n      <td>True</td>\n    </tr>\n    <tr>\n      <th>y__permutation_entropy__dimension_6__tau_1</th>\n      <td>y__permutation_entropy__dimension_6__tau_1</td>\n      <td>real</td>\n      <td>1.856687e-08</td>\n      <td>True</td>\n      <td>0.000003</td>\n      <td>True</td>\n      <td>4.987593e-06</td>\n      <td>True</td>\n      <td>3</td>\n      <td>True</td>\n    </tr>\n    <tr>\n      <th>y__range_count__max_1000000000000.0__min_0</th>\n      <td>y__range_count__max_1000000000000.0__min_0</td>\n      <td>real</td>\n      <td>1.264865e-08</td>\n      <td>True</td>\n      <td>0.000002</td>\n      <td>True</td>\n      <td>3.175847e-03</td>\n      <td>False</td>\n      <td>2</td>\n      <td>True</td>\n    </tr>\n    <tr>\n      <th>y__range_count__max_1__min_-1</th>\n      <td>y__range_count__max_1__min_-1</td>\n      <td>real</td>\n      <td>1.264865e-08</td>\n      <td>True</td>\n      <td>0.000002</td>\n      <td>True</td>\n      <td>3.175847e-03</td>\n      <td>False</td>\n      <td>2</td>\n      <td>True</td>\n    </tr>\n    <tr>\n      <th>y__sum_of_reoccurring_data_points</th>\n      <td>y__sum_of_reoccurring_data_points</td>\n      <td>real</td>\n      <td>1.941679e-08</td>\n      <td>True</td>\n      <td>0.000003</td>\n      <td>True</td>\n      <td>4.987593e-06</td>\n      <td>True</td>\n      <td>3</td>\n      <td>True</td>\n    </tr>\n    <tr>\n      <th>y__sum_of_reoccurring_values</th>\n      <td>y__sum_of_reoccurring_values</td>\n      <td>real</td>\n      <td>2.426572e-08</td>\n      <td>True</td>\n      <td>0.000004</td>\n      <td>True</td>\n      <td>4.987593e-06</td>\n      <td>True</td>\n      <td>3</td>\n      <td>True</td>\n    </tr>\n    <tr>\n      <th>y__sum_values</th>\n      <td>y__sum_values</td>\n      <td>real</td>\n      <td>2.030445e-08</td>\n      <td>True</td>\n      <td>0.000003</td>\n      <td>True</td>\n      <td>4.987593e-06</td>\n      <td>True</td>\n      <td>3</td>\n      <td>True</td>\n    </tr>\n  </tbody>\n</table>\n</div>"
     },
     "execution_count": 34,
     "metadata": {},
     "output_type": "execute_result"
    }
   ],
   "source": [
    "lowest_indices_column1 = table['p_value_1'].nsmallest(15).index\n",
    "lowest_indices_column2 = table['p_value_2'].nsmallest(15).index\n",
    "lowest_indices_column3 = table['p_value_3'].nsmallest(15).index\n",
    "\n",
    "# Combine the indices to get the unique rows with the lowest values in any column\n",
    "lowest_indices_combined = lowest_indices_column1.union(lowest_indices_column2).union(lowest_indices_column3)\n",
    "\n",
    "# Filter the original DataFrame to keep only the rows with the lowest values\n",
    "filtered_df = table.loc[lowest_indices_combined]\n",
    "filtered_df\n",
    "#lowest_indices_combined"
   ],
   "metadata": {
    "collapsed": false,
    "ExecuteTime": {
     "end_time": "2023-09-25T15:57:41.069456Z",
     "start_time": "2023-09-25T15:57:41.057152Z"
    }
   }
  },
  {
   "cell_type": "code",
   "execution_count": 39,
   "outputs": [
    {
     "data": {
      "text/plain": "Index(['x__abs_energy', 'x__cid_ce__normalize_True', 'x__count_below_mean',\n       'x__fft_coefficient__attr_\"abs\"__coeff_0',\n       'x__fft_coefficient__attr_\"real\"__coeff_0', 'x__length',\n       'x__number_cwt_peaks__n_1', 'x__number_cwt_peaks__n_5',\n       'x__number_peaks__n_3', 'x__number_peaks__n_5',\n       'x__range_count__max_1000000000000.0__min_0',\n       'x__range_count__max_1__min_-1', 'x__ratio_beyond_r_sigma__r_10',\n       'x__sum_of_reoccurring_data_points', 'x__sum_of_reoccurring_values',\n       'x__sum_values', 'y__cid_ce__normalize_True',\n       'y__fft_coefficient__attr_\"abs\"__coeff_0',\n       'y__fft_coefficient__attr_\"real\"__coeff_0', 'y__length',\n       'y__number_cwt_peaks__n_1', 'y__number_peaks__n_1',\n       'y__number_peaks__n_10', 'y__number_peaks__n_3',\n       'y__percentage_of_reoccurring_datapoints_to_all_datapoints',\n       'y__percentage_of_reoccurring_values_to_all_values',\n       'y__permutation_entropy__dimension_6__tau_1',\n       'y__range_count__max_1000000000000.0__min_0',\n       'y__range_count__max_1__min_-1', 'y__sum_of_reoccurring_data_points',\n       'y__sum_of_reoccurring_values', 'y__sum_values'],\n      dtype='object', name='feature')"
     },
     "execution_count": 39,
     "metadata": {},
     "output_type": "execute_result"
    }
   ],
   "source": [
    "lowest_indices_combined"
   ],
   "metadata": {
    "collapsed": false,
    "ExecuteTime": {
     "end_time": "2023-09-25T15:59:38.538478Z",
     "start_time": "2023-09-25T15:59:38.527917Z"
    }
   }
  },
  {
   "cell_type": "code",
   "execution_count": 19,
   "metadata": {
    "ExecuteTime": {
     "end_time": "2023-09-23T17:07:39.206213Z",
     "start_time": "2023-09-23T17:07:34.625255Z"
    }
   },
   "outputs": [
    {
     "name": "stderr",
     "output_type": "stream",
     "text": [
      "/Users/felixschreyer/anaconda3/envs/Testing/lib/python3.11/site-packages/tsfresh/feature_selection/relevance.py:222: RuntimeWarning: [test_feature_significance] Constant features: x__variance_larger_than_standard_deviation, x__has_duplicate_max, x__has_duplicate_min, x__has_duplicate, x__symmetry_looking__r_0.0, x__symmetry_looking__r_0.05, x__symmetry_looking__r_0.1, x__symmetry_looking__r_0.15000000000000002, x__symmetry_looking__r_0.2, x__symmetry_looking__r_0.25, x__symmetry_looking__r_0.30000000000000004, x__symmetry_looking__r_0.35000000000000003, x__symmetry_looking__r_0.4, x__symmetry_looking__r_0.45, x__symmetry_looking__r_0.5, x__symmetry_looking__r_0.55, x__symmetry_looking__r_0.6000000000000001, x__symmetry_looking__r_0.65, x__symmetry_looking__r_0.7000000000000001, x__symmetry_looking__r_0.75, x__symmetry_looking__r_0.8, x__symmetry_looking__r_0.8500000000000001, x__symmetry_looking__r_0.9, x__symmetry_looking__r_0.9500000000000001, x__large_standard_deviation__r_0.2, x__large_standard_deviation__r_0.25, x__large_standard_deviation__r_0.30000000000000004, x__large_standard_deviation__r_0.35000000000000003, x__large_standard_deviation__r_0.4, x__large_standard_deviation__r_0.45, x__large_standard_deviation__r_0.5, x__large_standard_deviation__r_0.55, x__large_standard_deviation__r_0.6000000000000001, x__large_standard_deviation__r_0.65, x__large_standard_deviation__r_0.7000000000000001, x__large_standard_deviation__r_0.75, x__large_standard_deviation__r_0.8, x__large_standard_deviation__r_0.8500000000000001, x__large_standard_deviation__r_0.9, x__large_standard_deviation__r_0.9500000000000001, x__partial_autocorrelation__lag_0, x__fft_coefficient__attr_\"imag\"__coeff_0, x__fft_coefficient__attr_\"angle\"__coeff_0, x__value_count__value_0, x__value_count__value_1, x__value_count__value_-1, x__range_count__max_0__min_-1000000000000.0, x__number_crossing_m__m_0, x__number_crossing_m__m_-1, x__number_crossing_m__m_1, x__count_above__t_0, x__count_below__t_0, x__query_similarity_count__query_None__threshold_0.0, y__variance_larger_than_standard_deviation, y__has_duplicate_max, y__has_duplicate_min, y__has_duplicate, y__symmetry_looking__r_0.0, y__symmetry_looking__r_0.05, y__symmetry_looking__r_0.1, y__symmetry_looking__r_0.15000000000000002, y__symmetry_looking__r_0.2, y__symmetry_looking__r_0.25, y__symmetry_looking__r_0.30000000000000004, y__symmetry_looking__r_0.35000000000000003, y__symmetry_looking__r_0.4, y__symmetry_looking__r_0.45, y__symmetry_looking__r_0.5, y__symmetry_looking__r_0.55, y__symmetry_looking__r_0.6000000000000001, y__symmetry_looking__r_0.65, y__symmetry_looking__r_0.7000000000000001, y__symmetry_looking__r_0.75, y__symmetry_looking__r_0.8, y__symmetry_looking__r_0.8500000000000001, y__symmetry_looking__r_0.9, y__symmetry_looking__r_0.9500000000000001, y__large_standard_deviation__r_0.2, y__large_standard_deviation__r_0.25, y__large_standard_deviation__r_0.30000000000000004, y__large_standard_deviation__r_0.35000000000000003, y__large_standard_deviation__r_0.4, y__large_standard_deviation__r_0.45, y__large_standard_deviation__r_0.5, y__large_standard_deviation__r_0.55, y__large_standard_deviation__r_0.6000000000000001, y__large_standard_deviation__r_0.65, y__large_standard_deviation__r_0.7000000000000001, y__large_standard_deviation__r_0.75, y__large_standard_deviation__r_0.8, y__large_standard_deviation__r_0.8500000000000001, y__large_standard_deviation__r_0.9, y__large_standard_deviation__r_0.9500000000000001, y__partial_autocorrelation__lag_0, y__fft_coefficient__attr_\"imag\"__coeff_0, y__fft_coefficient__attr_\"angle\"__coeff_0, y__value_count__value_0, y__value_count__value_1, y__value_count__value_-1, y__range_count__max_0__min_-1000000000000.0, y__number_crossing_m__m_0, y__number_crossing_m__m_-1, y__number_crossing_m__m_1, y__count_above__t_0, y__count_below__t_0, y__query_similarity_count__query_None__threshold_0.0\n",
      "  warnings.warn(\n"
     ]
    }
   ],
   "source": [
    "X_selected = select_features(X, y_s_train_distinct, ml_task='classification', multiclass=True, show_warnings=True, fdr_level= 0.00001)"
   ]
  },
  {
   "cell_type": "code",
   "execution_count": 45,
   "outputs": [],
   "source": [
    "X_selected = X.loc[:, X.columns.isin(lowest_indices_combined)]"
   ],
   "metadata": {
    "collapsed": false,
    "ExecuteTime": {
     "end_time": "2023-09-25T16:02:19.947399Z",
     "start_time": "2023-09-25T16:02:19.936767Z"
    }
   }
  },
  {
   "cell_type": "code",
   "execution_count": 46,
   "metadata": {
    "ExecuteTime": {
     "end_time": "2023-09-25T16:02:31.219934Z",
     "start_time": "2023-09-25T16:02:31.204675Z"
    }
   },
   "outputs": [],
   "source": [
    "X_selected.to_pickle('df_feature_selected.pkl')"
   ]
  },
  {
   "cell_type": "markdown",
   "metadata": {},
   "source": [
    "# Relevant Features S Train"
   ]
  },
  {
   "cell_type": "code",
   "execution_count": 2,
   "metadata": {
    "ExecuteTime": {
     "end_time": "2023-09-25T20:57:07.789716Z",
     "start_time": "2023-09-25T20:57:07.784732Z"
    }
   },
   "outputs": [],
   "source": [
    "import tsfresh\n",
    "import pandas as pd"
   ]
  },
  {
   "cell_type": "code",
   "execution_count": 3,
   "metadata": {
    "ExecuteTime": {
     "end_time": "2023-09-25T20:57:23.071672Z",
     "start_time": "2023-09-25T20:57:08.654359Z"
    }
   },
   "outputs": [],
   "source": [
    "df_s_train = pd.read_pickle('df_t_train_rolled.pkl')\n",
    "kind_to_fc_parameters = tsfresh.feature_extraction.settings.from_columns(pd.read_pickle('df_feature_selected.pkl'))"
   ]
  },
  {
   "cell_type": "code",
   "execution_count": 4,
   "metadata": {
    "ExecuteTime": {
     "end_time": "2023-09-25T20:57:23.668352Z",
     "start_time": "2023-09-25T20:57:23.072985Z"
    }
   },
   "outputs": [],
   "source": [
    "df_s_train = df_s_train.drop(columns=['time_end', 'bearing_id', 'RUL_rolled_class', 'RUL_rolled'])\n",
    "#ddf_s_train = dd.from_pandas(df_s_train, npartitions=20)"
   ]
  },
  {
   "cell_type": "code",
   "execution_count": null,
   "metadata": {},
   "outputs": [],
   "source": [
    "del [ddf_helper]\n",
    "del [df_s_train]"
   ]
  },
  {
   "cell_type": "code",
   "execution_count": null,
   "metadata": {
    "is_executing": true,
    "ExecuteTime": {
     "start_time": "2023-09-25T20:57:24.914413Z"
    }
   },
   "outputs": [
    {
     "name": "stderr",
     "output_type": "stream",
     "text": [
      "Feature Extraction:   0%|          | 0/14 [00:00<?, ?it/s]"
     ]
    }
   ],
   "source": [
    "X_s_train   = extract_features(df_s_train, column_id='id', column_sort='time', kind_to_fc_parameters= kind_to_fc_parameters)"
   ]
  },
  {
   "cell_type": "code",
   "execution_count": null,
   "metadata": {
    "is_executing": true
   },
   "outputs": [],
   "source": [
    "X_s_train.to_pickle('X_t_train.pkl')"
   ]
  },
  {
   "cell_type": "code",
   "execution_count": null,
   "outputs": [],
   "source": [],
   "metadata": {
    "collapsed": false
   }
  }
 ],
 "metadata": {
  "kernelspec": {
   "display_name": "BAR_TS",
   "language": "python",
   "name": "python3"
  },
  "language_info": {
   "codemirror_mode": {
    "name": "ipython",
    "version": 3
   },
   "file_extension": ".py",
   "mimetype": "text/x-python",
   "name": "python",
   "nbconvert_exporter": "python",
   "pygments_lexer": "ipython3",
   "version": "3.9.17"
  },
  "orig_nbformat": 4
 },
 "nbformat": 4,
 "nbformat_minor": 2
}
