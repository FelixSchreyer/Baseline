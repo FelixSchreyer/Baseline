{
 "cells": [
  {
   "cell_type": "code",
   "execution_count": 2,
   "metadata": {},
   "outputs": [],
   "source": [
    "%matplotlib inline\n",
    "import numpy as np\n",
    "import pandas as pd\n",
    "from matplotlib import pyplot as plt\n",
    "\n",
    "import tsfresh\n",
    "from tsfresh import extract_features, select_features\n",
    "from tsfresh.feature_extraction import ComprehensiveFCParameters\n",
    "from tsfresh.utilities.dataframe_functions import roll_time_series, impute\n",
    "\n",
    "from sklearn.metrics import classification_report\n",
    "from sklearn.cluster import KMeans\n",
    "from sklearn.ensemble import RandomForestClassifier\n",
    "\n",
    "from adapt.feature_based import FA\n",
    "\n",
    "from skopt import BayesSearchCV\n",
    "from skopt.space import Categorical, Integer\n",
    "\n",
    "from my_package.utils import create_df, plot_data, return_df, roll_data, norm\n",
    "from my_package.add_columns import create_time_column, create_rul_columns\n",
    "\n",
    "\n",
    "\n",
    "# Necessary to due to skopt not being up-to-date\n",
    "np.int = int"
   ]
  },
  {
   "cell_type": "code",
   "execution_count": 4,
   "metadata": {},
   "outputs": [],
   "source": [
    "#TODO: Files angeben\n",
    "dir_data = '../data.nosync/'"
   ]
  },
  {
   "cell_type": "markdown",
   "metadata": {},
   "source": [
    "# Load Dataset S Validate"
   ]
  },
  {
   "cell_type": "code",
   "execution_count": 2,
   "metadata": {},
   "outputs": [],
   "source": [
    "#Folder Names\n",
    "data_s_validate = ['validate/Bearing1_3']\n",
    "\n",
    "#Creation of df based on folder names\n",
    "df_s_validate           = return_df(dir_data, data_s_validate)\n",
    "df_s_validate           = norm(df_s_validate)"
   ]
  },
  {
   "cell_type": "code",
   "execution_count": 3,
   "metadata": {},
   "outputs": [
    {
     "name": "stderr",
     "output_type": "stream",
     "text": [
      "c:\\Users\\KombiWZM\\anaconda3\\envs\\BAR_TS\\lib\\site-packages\\tsfresh\\utilities\\dataframe_functions.py:520: UserWarning: Your time stamps are not uniformly sampled, which makes rolling nonsensical in some domains.\n",
      "  warnings.warn(\n",
      "Rolling: 100%|██████████| 18/18 [00:26<00:00,  1.47s/it]\n"
     ]
    }
   ],
   "source": [
    "df_s_validate_rolled    = roll_data(df_s_validate, min_timeshift=256000, rolling_direction=256000)\n",
    "\n",
    "df_s_validate_rolled.to_pickle(\"df_s_validate_rolled.pkl\")\n",
    "\n",
    "del [df_s_validate]\n",
    "del [df_s_validate_rolled]"
   ]
  },
  {
   "cell_type": "markdown",
   "metadata": {},
   "source": [
    "# Load Dataset S Train"
   ]
  },
  {
   "cell_type": "code",
   "execution_count": 6,
   "metadata": {},
   "outputs": [
    {
     "name": "stderr",
     "output_type": "stream",
     "text": [
      "c:\\Users\\KombiWZM\\anaconda3\\envs\\BAR_TS\\lib\\site-packages\\tsfresh\\utilities\\dataframe_functions.py:520: UserWarning: Your time stamps are not uniformly sampled, which makes rolling nonsensical in some domains.\n",
      "  warnings.warn(\n",
      "Rolling: 100%|██████████| 29/29 [05:34<00:00, 11.55s/it]\n"
     ]
    }
   ],
   "source": [
    "data_s_train    = ['train/Bearing1_1', 'train/Bearing1_2', 'test/Bearing1_5', 'test/Bearing1_6', 'test/Bearing1_7', \n",
    "'train/Bearing2_1', 'train/Bearing2_2', 'test/Bearing2_5', 'test/Bearing2_6', 'test/Bearing2_7']\n",
    "\n",
    "df_s_train              = return_df(dir_data, data_s_train)\n",
    "df_s_train              = norm(df_s_train)\n",
    "df_s_train_rolled       = roll_data(df_s_train, min_timeshift=256000, rolling_direction=256000)\n",
    "\n",
    "df_s_train_rolled.to_pickle(\"df_s_train_rolled.pkl\")\n",
    "\n",
    "del [df_s_train]\n",
    "del [df_s_train_rolled]"
   ]
  },
  {
   "cell_type": "code",
   "execution_count": 3,
   "metadata": {},
   "outputs": [
    {
     "name": "stderr",
     "output_type": "stream",
     "text": [
      "c:\\Users\\KombiWZM\\anaconda3\\envs\\BAR_TS\\lib\\site-packages\\tsfresh\\utilities\\dataframe_functions.py:520: UserWarning: Your time stamps are not uniformly sampled, which makes rolling nonsensical in some domains.\n",
      "  warnings.warn(\n",
      "Rolling: 100%|██████████| 24/24 [01:47<00:00,  4.47s/it]\n"
     ]
    }
   ],
   "source": [
    "data_s_test     = ['test/Bearing1_3', 'test/Bearing1_4',  \n",
    "                   'test/Bearing2_3', 'test/Bearing2_4']\n",
    "\n",
    "df_s_test               = return_df(dir_data, data_s_test)\n",
    "df_s_test               = norm(df_s_test)\n",
    "df_s_test_rolled        = roll_data(df_s_test, min_timeshift=256000, rolling_direction=256000)\n",
    "\n",
    "df_s_test_rolled.to_pickle(\"df_s_test_rolled.pkl\")\n",
    "\n",
    "del [df_s_test]\n",
    "del [df_s_test_rolled]\n",
    "\n"
   ]
  },
  {
   "cell_type": "markdown",
   "metadata": {},
   "source": [
    "# Load Dataset T Train"
   ]
  },
  {
   "cell_type": "code",
   "execution_count": 4,
   "metadata": {},
   "outputs": [
    {
     "name": "stderr",
     "output_type": "stream",
     "text": [
      "c:\\Users\\KombiWZM\\anaconda3\\envs\\BAR_TS\\lib\\site-packages\\tsfresh\\utilities\\dataframe_functions.py:520: UserWarning: Your time stamps are not uniformly sampled, which makes rolling nonsensical in some domains.\n",
      "  warnings.warn(\n",
      "Rolling: 100%|██████████| 17/17 [00:23<00:00,  1.37s/it]\n"
     ]
    }
   ],
   "source": [
    "data_t_train    = ['train/Bearing3_1', 'train/Bearing3_2']\n",
    "\n",
    "df_t_train      = return_df(dir_data, data_t_train)\n",
    "df_t_train      = norm(df_t_train)\n",
    "df_t_train_rolled       = roll_data(df_t_train, min_timeshift=256000, rolling_direction=256000)\n",
    "\n",
    "df_t_train_rolled.to_pickle(\"df_t_train_rolled.pkl\")\n",
    "\n",
    "del [df_t_train]\n",
    "del [df_t_train_rolled]\n"
   ]
  },
  {
   "cell_type": "markdown",
   "metadata": {},
   "source": [
    "# Load Dataset T Test"
   ]
  },
  {
   "cell_type": "code",
   "execution_count": 5,
   "metadata": {},
   "outputs": [
    {
     "name": "stderr",
     "output_type": "stream",
     "text": [
      "c:\\Users\\KombiWZM\\anaconda3\\envs\\BAR_TS\\lib\\site-packages\\tsfresh\\utilities\\dataframe_functions.py:520: UserWarning: Your time stamps are not uniformly sampled, which makes rolling nonsensical in some domains.\n",
      "  warnings.warn(\n",
      "Rolling: 100%|██████████| 5/5 [00:03<00:00,  1.29it/s]\n"
     ]
    }
   ],
   "source": [
    "data_t_test     = ['test/Bearing3_3']\n",
    "\n",
    "df_t_test               = return_df(dir_data, data_t_test)\n",
    "df_t_test               = norm(df_t_test)\n",
    "df_t_test_rolled        = roll_data(df_t_test, min_timeshift=256000, rolling_direction=256000)\n",
    "\n",
    "df_t_test_rolled.to_pickle(\"df_t_test_rolled.pkl\")\n",
    "\n",
    "del [df_t_test]\n",
    "del [df_t_test_rolled]"
   ]
  },
  {
   "cell_type": "markdown",
   "metadata": {},
   "source": [
    "# Load Dataset for Features"
   ]
  },
  {
   "cell_type": "code",
   "execution_count": 3,
   "metadata": {},
   "outputs": [],
   "source": [
    "df_s_train_rolled = pd.read_pickle('df_s_train_rolled.pkl')"
   ]
  },
  {
   "cell_type": "code",
   "execution_count": null,
   "metadata": {},
   "outputs": [],
   "source": [
    "step = 750\n",
    "#df = df_s_train_rolled.drop(columns=['time_end', 'bearing_id', 'RUL_rolled_class', 'RUL_rolled'])\n",
    "df = df_s_train_rolled.iloc[::step]\n",
    "df.to_pickle(\"df_feature.pkl\")"
   ]
  },
  {
   "cell_type": "code",
   "execution_count": null,
   "metadata": {},
   "outputs": [],
   "source": [
    "df = pd.read_pickle('df_feature.pkl')\n",
    "df = df.drop(columns=['time_end', 'bearing_id', 'RUL_rolled_class', 'RUL_rolled'])\n",
    "df.to_pickle('df_feature.pkl')"
   ]
  }
 ],
 "metadata": {
  "kernelspec": {
   "display_name": "BAR_TS",
   "language": "python",
   "name": "python3"
  },
  "language_info": {
   "codemirror_mode": {
    "name": "ipython",
    "version": 3
   },
   "file_extension": ".py",
   "mimetype": "text/x-python",
   "name": "python",
   "nbconvert_exporter": "python",
   "pygments_lexer": "ipython3",
   "version": "3.9.17"
  },
  "orig_nbformat": 4
 },
 "nbformat": 4,
 "nbformat_minor": 2
}
