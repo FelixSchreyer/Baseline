{
 "cells": [
  {
   "cell_type": "code",
   "execution_count": 2,
   "metadata": {
    "ExecuteTime": {
     "end_time": "2023-09-23T11:43:21.256892Z",
     "start_time": "2023-09-23T11:43:15.757332Z"
    }
   },
   "outputs": [],
   "source": [
    "%matplotlib inline\n",
    "import numpy as np\n",
    "import pandas as pd\n",
    "from matplotlib import pyplot as plt\n",
    "\n",
    "import tsfresh\n",
    "from tsfresh import extract_features, select_features\n",
    "from tsfresh.feature_extraction import ComprehensiveFCParameters\n",
    "from tsfresh.utilities.dataframe_functions import roll_time_series, impute\n",
    "\n",
    "from sklearn.metrics import classification_report\n",
    "from sklearn.cluster import KMeans\n",
    "from sklearn.ensemble import RandomForestClassifier\n",
    "\n",
    "from adapt.feature_based import FA\n",
    "\n",
    "from skopt import BayesSearchCV\n",
    "from skopt.space import Categorical, Integer\n",
    "\n",
    "from my_package.utils import create_df, plot_data, return_df, roll_data, norm\n",
    "from my_package.add_columns import create_time_column, create_rul_columns\n",
    "\n",
    "\n",
    "\n",
    "# Necessary to due to skopt not being up-to-date\n",
    "np.int = int"
   ]
  },
  {
   "cell_type": "code",
   "execution_count": 3,
   "metadata": {
    "ExecuteTime": {
     "end_time": "2023-09-23T11:43:21.263012Z",
     "start_time": "2023-09-23T11:43:21.257737Z"
    }
   },
   "outputs": [],
   "source": [
    "dir_data = '../data.nosync/'\n",
    "\n",
    "# Mindestlänge von 20 Minuten für Zeitfenster\n",
    "min_timeshift = 307200\n",
    "# 15 Minuten Sprünge\n",
    "rolling_direction = 230400"
   ]
  },
  {
   "cell_type": "markdown",
   "metadata": {},
   "source": [
    "# Load Dataset S Validate"
   ]
  },
  {
   "cell_type": "code",
   "execution_count": null,
   "metadata": {},
   "outputs": [],
   "source": [
    "#Folder Names\n",
    "data_s_validate = ['validate/Bearing1_3']\n",
    "\n",
    "df_s_validate           = return_df(dir_data, data_s_validate)\n",
    "df_s_validate           = norm(df_s_validate)\n",
    "\n",
    "df_s_validate_rolled    = roll_data(df_s_validate, min_timeshift=min_timeshift, rolling_direction=rolling_direction)\n",
    "\n",
    "df_s_validate_rolled.to_pickle(\"df_s_validate_rolled.pkl\")\n",
    "\n",
    "del [df_s_validate]\n",
    "del [df_s_validate_rolled]"
   ]
  },
  {
   "cell_type": "markdown",
   "metadata": {
    "ExecuteTime": {
     "end_time": "2023-09-23T11:58:54.162524Z",
     "start_time": "2023-09-23T11:58:54.157206Z"
    }
   },
   "source": [
    "# Load Dataset S Train"
   ]
  },
  {
   "cell_type": "code",
   "execution_count": null,
   "metadata": {},
   "outputs": [],
   "source": [
    "#Folder Names\n",
    "data_s_train    = ['train/Bearing1_1', 'train/Bearing1_2', 'test/Bearing1_5', 'test/Bearing1_6', 'test/Bearing1_7', \n",
    "'train/Bearing2_1', 'train/Bearing2_2', 'test/Bearing2_5', 'test/Bearing2_6', 'test/Bearing2_7']\n",
    "\n",
    "df_s_train              = return_df(dir_data, data_s_train)\n",
    "df_s_train              = norm(df_s_train)\n",
    "df_s_train_rolled       = roll_data(df_s_train, min_timeshift=min_timeshift, rolling_direction=rolling_direction)\n",
    "\n",
    "df_s_train_rolled.to_pickle(\"df_s_train_rolled.pkl\")\n",
    "\n",
    "del [df_s_train]\n",
    "del [df_s_train_rolled]"
   ]
  },
  {
   "cell_type": "code",
   "execution_count": null,
   "metadata": {},
   "outputs": [],
   "source": [
    "#Folder Names\n",
    "data_s_test     = ['test/Bearing1_3', 'test/Bearing1_4',  \n",
    "                   'test/Bearing2_3', 'test/Bearing2_4']\n",
    "\n",
    "df_s_test               = return_df(dir_data, data_s_test)\n",
    "df_s_test               = norm(df_s_test)\n",
    "df_s_test_rolled        = roll_data(df_s_test, min_timeshift=min_timeshift, rolling_direction=rolling_direction)\n",
    "\n",
    "df_s_test_rolled.to_pickle(\"df_s_test_rolled.pkl\")\n",
    "\n",
    "del [df_s_test]\n",
    "del [df_s_test_rolled]\n",
    "\n"
   ]
  },
  {
   "cell_type": "markdown",
   "metadata": {},
   "source": [
    "# Load Dataset T Train"
   ]
  },
  {
   "cell_type": "code",
   "execution_count": 15,
   "metadata": {
    "ExecuteTime": {
     "end_time": "2023-09-23T10:04:04.319423Z",
     "start_time": "2023-09-23T10:03:53.483745Z"
    }
   },
   "outputs": [
    {
     "ename": "KeyboardInterrupt",
     "evalue": "",
     "output_type": "error",
     "traceback": [
      "\u001B[0;31m---------------------------------------------------------------------------\u001B[0m",
      "\u001B[0;31mKeyboardInterrupt\u001B[0m                         Traceback (most recent call last)",
      "Cell \u001B[0;32mIn[15], line 4\u001B[0m\n\u001B[1;32m      1\u001B[0m \u001B[38;5;66;03m#Folder Names\u001B[39;00m\n\u001B[1;32m      2\u001B[0m data_t_train    \u001B[38;5;241m=\u001B[39m [\u001B[38;5;124m'\u001B[39m\u001B[38;5;124mtrain/Bearing3_1\u001B[39m\u001B[38;5;124m'\u001B[39m, \u001B[38;5;124m'\u001B[39m\u001B[38;5;124mtrain/Bearing3_2\u001B[39m\u001B[38;5;124m'\u001B[39m]\n\u001B[0;32m----> 4\u001B[0m df_t_train      \u001B[38;5;241m=\u001B[39m return_df(dir_data, data_t_train)\n\u001B[1;32m      5\u001B[0m df_t_train      \u001B[38;5;241m=\u001B[39m norm(df_t_train)\n\u001B[1;32m      6\u001B[0m df_t_train_rolled       \u001B[38;5;241m=\u001B[39m roll_data(df_t_train, min_timeshift\u001B[38;5;241m=\u001B[39mmin_timeshift, rolling_direction\u001B[38;5;241m=\u001B[39mrolling_direction)\n",
      "File \u001B[0;32m~/Documents/Dokumente/Abschlussarbeit/Notebooks/src/my_package/utils.py:121\u001B[0m, in \u001B[0;36mreturn_df\u001B[0;34m(dir_ref, data)\u001B[0m\n\u001B[1;32m    120\u001B[0m \u001B[38;5;28;01mdef\u001B[39;00m \u001B[38;5;21mreturn_df\u001B[39m(dir_ref, data):\n\u001B[0;32m--> 121\u001B[0m     df \u001B[38;5;241m=\u001B[39m create_df(dir_ref, data)\n\u001B[1;32m    122\u001B[0m     df \u001B[38;5;241m=\u001B[39m create_time_column(df)\n\u001B[1;32m    123\u001B[0m     df \u001B[38;5;241m=\u001B[39m df\u001B[38;5;241m.\u001B[39msort_values(by\u001B[38;5;241m=\u001B[39m\u001B[38;5;124m'\u001B[39m\u001B[38;5;124mtime\u001B[39m\u001B[38;5;124m'\u001B[39m)\n",
      "File \u001B[0;32m~/Documents/Dokumente/Abschlussarbeit/Notebooks/src/my_package/utils.py:100\u001B[0m, in \u001B[0;36mcreate_df\u001B[0;34m(directory, files)\u001B[0m\n\u001B[1;32m     97\u001B[0m \u001B[38;5;28;01mif\u001B[39;00m filename\u001B[38;5;241m.\u001B[39mendswith(\u001B[38;5;124m'\u001B[39m\u001B[38;5;124m.csv\u001B[39m\u001B[38;5;124m'\u001B[39m) \u001B[38;5;129;01mand\u001B[39;00m filename\u001B[38;5;241m.\u001B[39mstartswith(\u001B[38;5;124m\"\u001B[39m\u001B[38;5;124macc\u001B[39m\u001B[38;5;124m\"\u001B[39m):\n\u001B[1;32m     98\u001B[0m     file_path \u001B[38;5;241m=\u001B[39m os\u001B[38;5;241m.\u001B[39mpath\u001B[38;5;241m.\u001B[39mjoin(csv_directory, filename)\n\u001B[0;32m--> 100\u001B[0m     df \u001B[38;5;241m=\u001B[39m pd\u001B[38;5;241m.\u001B[39mread_csv(file_path, header\u001B[38;5;241m=\u001B[39m\u001B[38;5;28;01mNone\u001B[39;00m, sep\u001B[38;5;241m=\u001B[39m\u001B[38;5;124m'\u001B[39m\u001B[38;5;124m[;,]\u001B[39m\u001B[38;5;124m'\u001B[39m, encoding_errors\u001B[38;5;241m=\u001B[39m\u001B[38;5;124m'\u001B[39m\u001B[38;5;124mstrict\u001B[39m\u001B[38;5;124m'\u001B[39m, engine\u001B[38;5;241m=\u001B[39m\u001B[38;5;124m'\u001B[39m\u001B[38;5;124mpython\u001B[39m\u001B[38;5;124m'\u001B[39m)\n\u001B[1;32m    101\u001B[0m     df \u001B[38;5;241m=\u001B[39m create_id_column(df, var_id)\n\u001B[1;32m    102\u001B[0m     dataframes\u001B[38;5;241m.\u001B[39mappend(df)\n",
      "File \u001B[0;32m~/anaconda3/envs/Testing/lib/python3.11/site-packages/pandas/util/_decorators.py:211\u001B[0m, in \u001B[0;36mdeprecate_kwarg.<locals>._deprecate_kwarg.<locals>.wrapper\u001B[0;34m(*args, **kwargs)\u001B[0m\n\u001B[1;32m    209\u001B[0m     \u001B[38;5;28;01melse\u001B[39;00m:\n\u001B[1;32m    210\u001B[0m         kwargs[new_arg_name] \u001B[38;5;241m=\u001B[39m new_arg_value\n\u001B[0;32m--> 211\u001B[0m \u001B[38;5;28;01mreturn\u001B[39;00m func(\u001B[38;5;241m*\u001B[39margs, \u001B[38;5;241m*\u001B[39m\u001B[38;5;241m*\u001B[39mkwargs)\n",
      "File \u001B[0;32m~/anaconda3/envs/Testing/lib/python3.11/site-packages/pandas/util/_decorators.py:331\u001B[0m, in \u001B[0;36mdeprecate_nonkeyword_arguments.<locals>.decorate.<locals>.wrapper\u001B[0;34m(*args, **kwargs)\u001B[0m\n\u001B[1;32m    325\u001B[0m \u001B[38;5;28;01mif\u001B[39;00m \u001B[38;5;28mlen\u001B[39m(args) \u001B[38;5;241m>\u001B[39m num_allow_args:\n\u001B[1;32m    326\u001B[0m     warnings\u001B[38;5;241m.\u001B[39mwarn(\n\u001B[1;32m    327\u001B[0m         msg\u001B[38;5;241m.\u001B[39mformat(arguments\u001B[38;5;241m=\u001B[39m_format_argument_list(allow_args)),\n\u001B[1;32m    328\u001B[0m         \u001B[38;5;167;01mFutureWarning\u001B[39;00m,\n\u001B[1;32m    329\u001B[0m         stacklevel\u001B[38;5;241m=\u001B[39mfind_stack_level(),\n\u001B[1;32m    330\u001B[0m     )\n\u001B[0;32m--> 331\u001B[0m \u001B[38;5;28;01mreturn\u001B[39;00m func(\u001B[38;5;241m*\u001B[39margs, \u001B[38;5;241m*\u001B[39m\u001B[38;5;241m*\u001B[39mkwargs)\n",
      "File \u001B[0;32m~/anaconda3/envs/Testing/lib/python3.11/site-packages/pandas/io/parsers/readers.py:950\u001B[0m, in \u001B[0;36mread_csv\u001B[0;34m(filepath_or_buffer, sep, delimiter, header, names, index_col, usecols, squeeze, prefix, mangle_dupe_cols, dtype, engine, converters, true_values, false_values, skipinitialspace, skiprows, skipfooter, nrows, na_values, keep_default_na, na_filter, verbose, skip_blank_lines, parse_dates, infer_datetime_format, keep_date_col, date_parser, dayfirst, cache_dates, iterator, chunksize, compression, thousands, decimal, lineterminator, quotechar, quoting, doublequote, escapechar, comment, encoding, encoding_errors, dialect, error_bad_lines, warn_bad_lines, on_bad_lines, delim_whitespace, low_memory, memory_map, float_precision, storage_options)\u001B[0m\n\u001B[1;32m    935\u001B[0m kwds_defaults \u001B[38;5;241m=\u001B[39m _refine_defaults_read(\n\u001B[1;32m    936\u001B[0m     dialect,\n\u001B[1;32m    937\u001B[0m     delimiter,\n\u001B[0;32m   (...)\u001B[0m\n\u001B[1;32m    946\u001B[0m     defaults\u001B[38;5;241m=\u001B[39m{\u001B[38;5;124m\"\u001B[39m\u001B[38;5;124mdelimiter\u001B[39m\u001B[38;5;124m\"\u001B[39m: \u001B[38;5;124m\"\u001B[39m\u001B[38;5;124m,\u001B[39m\u001B[38;5;124m\"\u001B[39m},\n\u001B[1;32m    947\u001B[0m )\n\u001B[1;32m    948\u001B[0m kwds\u001B[38;5;241m.\u001B[39mupdate(kwds_defaults)\n\u001B[0;32m--> 950\u001B[0m \u001B[38;5;28;01mreturn\u001B[39;00m _read(filepath_or_buffer, kwds)\n",
      "File \u001B[0;32m~/anaconda3/envs/Testing/lib/python3.11/site-packages/pandas/io/parsers/readers.py:611\u001B[0m, in \u001B[0;36m_read\u001B[0;34m(filepath_or_buffer, kwds)\u001B[0m\n\u001B[1;32m    608\u001B[0m     \u001B[38;5;28;01mreturn\u001B[39;00m parser\n\u001B[1;32m    610\u001B[0m \u001B[38;5;28;01mwith\u001B[39;00m parser:\n\u001B[0;32m--> 611\u001B[0m     \u001B[38;5;28;01mreturn\u001B[39;00m parser\u001B[38;5;241m.\u001B[39mread(nrows)\n",
      "File \u001B[0;32m~/anaconda3/envs/Testing/lib/python3.11/site-packages/pandas/io/parsers/readers.py:1778\u001B[0m, in \u001B[0;36mTextFileReader.read\u001B[0;34m(self, nrows)\u001B[0m\n\u001B[1;32m   1771\u001B[0m nrows \u001B[38;5;241m=\u001B[39m validate_integer(\u001B[38;5;124m\"\u001B[39m\u001B[38;5;124mnrows\u001B[39m\u001B[38;5;124m\"\u001B[39m, nrows)\n\u001B[1;32m   1772\u001B[0m \u001B[38;5;28;01mtry\u001B[39;00m:\n\u001B[1;32m   1773\u001B[0m     \u001B[38;5;66;03m# error: \"ParserBase\" has no attribute \"read\"\u001B[39;00m\n\u001B[1;32m   1774\u001B[0m     (\n\u001B[1;32m   1775\u001B[0m         index,\n\u001B[1;32m   1776\u001B[0m         columns,\n\u001B[1;32m   1777\u001B[0m         col_dict,\n\u001B[0;32m-> 1778\u001B[0m     ) \u001B[38;5;241m=\u001B[39m \u001B[38;5;28mself\u001B[39m\u001B[38;5;241m.\u001B[39m_engine\u001B[38;5;241m.\u001B[39mread(  \u001B[38;5;66;03m# type: ignore[attr-defined]\u001B[39;00m\n\u001B[1;32m   1779\u001B[0m         nrows\n\u001B[1;32m   1780\u001B[0m     )\n\u001B[1;32m   1781\u001B[0m \u001B[38;5;28;01mexcept\u001B[39;00m \u001B[38;5;167;01mException\u001B[39;00m:\n\u001B[1;32m   1782\u001B[0m     \u001B[38;5;28mself\u001B[39m\u001B[38;5;241m.\u001B[39mclose()\n",
      "File \u001B[0;32m~/anaconda3/envs/Testing/lib/python3.11/site-packages/pandas/io/parsers/python_parser.py:285\u001B[0m, in \u001B[0;36mPythonParser.read\u001B[0;34m(self, rows)\u001B[0m\n\u001B[1;32m    282\u001B[0m alldata \u001B[38;5;241m=\u001B[39m \u001B[38;5;28mself\u001B[39m\u001B[38;5;241m.\u001B[39m_rows_to_cols(content)\n\u001B[1;32m    283\u001B[0m data, columns \u001B[38;5;241m=\u001B[39m \u001B[38;5;28mself\u001B[39m\u001B[38;5;241m.\u001B[39m_exclude_implicit_index(alldata)\n\u001B[0;32m--> 285\u001B[0m conv_data \u001B[38;5;241m=\u001B[39m \u001B[38;5;28mself\u001B[39m\u001B[38;5;241m.\u001B[39m_convert_data(data)\n\u001B[1;32m    286\u001B[0m columns, conv_data \u001B[38;5;241m=\u001B[39m \u001B[38;5;28mself\u001B[39m\u001B[38;5;241m.\u001B[39m_do_date_conversions(columns, conv_data)\n\u001B[1;32m    288\u001B[0m index, result_columns \u001B[38;5;241m=\u001B[39m \u001B[38;5;28mself\u001B[39m\u001B[38;5;241m.\u001B[39m_make_index(\n\u001B[1;32m    289\u001B[0m     conv_data, alldata, columns, indexnamerow\n\u001B[1;32m    290\u001B[0m )\n",
      "File \u001B[0;32m~/anaconda3/envs/Testing/lib/python3.11/site-packages/pandas/io/parsers/python_parser.py:349\u001B[0m, in \u001B[0;36mPythonParser._convert_data\u001B[0;34m(self, data)\u001B[0m\n\u001B[1;32m    346\u001B[0m     clean_na_values \u001B[38;5;241m=\u001B[39m \u001B[38;5;28mself\u001B[39m\u001B[38;5;241m.\u001B[39mna_values\n\u001B[1;32m    347\u001B[0m     clean_na_fvalues \u001B[38;5;241m=\u001B[39m \u001B[38;5;28mself\u001B[39m\u001B[38;5;241m.\u001B[39mna_fvalues\n\u001B[0;32m--> 349\u001B[0m \u001B[38;5;28;01mreturn\u001B[39;00m \u001B[38;5;28mself\u001B[39m\u001B[38;5;241m.\u001B[39m_convert_to_ndarrays(\n\u001B[1;32m    350\u001B[0m     data,\n\u001B[1;32m    351\u001B[0m     clean_na_values,\n\u001B[1;32m    352\u001B[0m     clean_na_fvalues,\n\u001B[1;32m    353\u001B[0m     \u001B[38;5;28mself\u001B[39m\u001B[38;5;241m.\u001B[39mverbose,\n\u001B[1;32m    354\u001B[0m     clean_conv,\n\u001B[1;32m    355\u001B[0m     clean_dtypes,\n\u001B[1;32m    356\u001B[0m )\n",
      "File \u001B[0;32m~/anaconda3/envs/Testing/lib/python3.11/site-packages/pandas/io/parsers/base_parser.py:586\u001B[0m, in \u001B[0;36mParserBase._convert_to_ndarrays\u001B[0;34m(self, dct, na_values, na_fvalues, verbose, converters, dtypes)\u001B[0m\n\u001B[1;32m    583\u001B[0m try_num_bool \u001B[38;5;241m=\u001B[39m \u001B[38;5;129;01mnot\u001B[39;00m (cast_type \u001B[38;5;129;01mand\u001B[39;00m is_str_or_ea_dtype)\n\u001B[1;32m    585\u001B[0m \u001B[38;5;66;03m# general type inference and conversion\u001B[39;00m\n\u001B[0;32m--> 586\u001B[0m cvals, na_count \u001B[38;5;241m=\u001B[39m \u001B[38;5;28mself\u001B[39m\u001B[38;5;241m.\u001B[39m_infer_types(\n\u001B[1;32m    587\u001B[0m     values, \u001B[38;5;28mset\u001B[39m(col_na_values) \u001B[38;5;241m|\u001B[39m col_na_fvalues, try_num_bool\n\u001B[1;32m    588\u001B[0m )\n\u001B[1;32m    590\u001B[0m \u001B[38;5;66;03m# type specified in dtype param or cast_type is an EA\u001B[39;00m\n\u001B[1;32m    591\u001B[0m \u001B[38;5;28;01mif\u001B[39;00m cast_type \u001B[38;5;129;01mand\u001B[39;00m (\n\u001B[1;32m    592\u001B[0m     \u001B[38;5;129;01mnot\u001B[39;00m is_dtype_equal(cvals, cast_type)\n\u001B[1;32m    593\u001B[0m     \u001B[38;5;129;01mor\u001B[39;00m is_extension_array_dtype(cast_type)\n\u001B[1;32m    594\u001B[0m ):\n",
      "File \u001B[0;32m~/anaconda3/envs/Testing/lib/python3.11/site-packages/pandas/io/parsers/base_parser.py:712\u001B[0m, in \u001B[0;36mParserBase._infer_types\u001B[0;34m(self, values, na_values, try_num_bool)\u001B[0m\n\u001B[1;32m    709\u001B[0m \u001B[38;5;28;01mif\u001B[39;00m try_num_bool \u001B[38;5;129;01mand\u001B[39;00m is_object_dtype(values\u001B[38;5;241m.\u001B[39mdtype):\n\u001B[1;32m    710\u001B[0m     \u001B[38;5;66;03m# exclude e.g DatetimeIndex here\u001B[39;00m\n\u001B[1;32m    711\u001B[0m     \u001B[38;5;28;01mtry\u001B[39;00m:\n\u001B[0;32m--> 712\u001B[0m         result, _ \u001B[38;5;241m=\u001B[39m lib\u001B[38;5;241m.\u001B[39mmaybe_convert_numeric(values, na_values, \u001B[38;5;28;01mFalse\u001B[39;00m)\n\u001B[1;32m    713\u001B[0m     \u001B[38;5;28;01mexcept\u001B[39;00m (\u001B[38;5;167;01mValueError\u001B[39;00m, \u001B[38;5;167;01mTypeError\u001B[39;00m):\n\u001B[1;32m    714\u001B[0m         \u001B[38;5;66;03m# e.g. encountering datetime string gets ValueError\u001B[39;00m\n\u001B[1;32m    715\u001B[0m         \u001B[38;5;66;03m#  TypeError can be raised in floatify\u001B[39;00m\n\u001B[1;32m    716\u001B[0m         result \u001B[38;5;241m=\u001B[39m values\n",
      "\u001B[0;31mKeyboardInterrupt\u001B[0m: "
     ]
    }
   ],
   "source": [
    "#Folder Names\n",
    "data_t_train    = ['train/Bearing3_1', 'train/Bearing3_2']\n",
    "\n",
    "df_t_train      = return_df(dir_data, data_t_train)\n",
    "df_t_train      = norm(df_t_train)\n",
    "df_t_train_rolled       = roll_data(df_t_train, min_timeshift=min_timeshift, rolling_direction=rolling_direction)\n",
    "\n",
    "df_t_train_rolled.to_pickle(\"df_t_train_rolled.pkl\")\n",
    "\n",
    "del [df_t_train]\n",
    "del [df_t_train_rolled]\n"
   ]
  },
  {
   "cell_type": "markdown",
   "metadata": {},
   "source": [
    "# Load Dataset T Test"
   ]
  },
  {
   "cell_type": "code",
   "execution_count": null,
   "metadata": {},
   "outputs": [],
   "source": [
    "#Folder Names\n",
    "data_t_test     = ['test/Bearing3_3']\n",
    "\n",
    "df_t_test               = return_df(dir_data, data_t_test)\n",
    "df_t_test               = norm(df_t_test)\n",
    "df_t_test_rolled        = roll_data(df_t_test, min_timeshift=min_timeshift, rolling_direction=rolling_direction)\n",
    "\n",
    "df_t_test_rolled.to_pickle(\"df_t_test_rolled.pkl\")\n",
    "\n",
    "del [df_t_test]\n",
    "del [df_t_test_rolled]"
   ]
  },
  {
   "cell_type": "markdown",
   "metadata": {},
   "source": [
    "# Load Dataset for Features"
   ]
  },
  {
   "cell_type": "code",
   "execution_count": null,
   "metadata": {},
   "outputs": [],
   "source": [
    "df_s_train_rolled = pd.read_pickle('df_s_train_rolled.pkl')"
   ]
  },
  {
   "cell_type": "code",
   "execution_count": null,
   "metadata": {},
   "outputs": [],
   "source": [
    "step_size = 750\n",
    "df = df_s_train_rolled.iloc[::step_size]\n",
    "df.to_pickle(\"df_feature.pkl\")"
   ]
  },
  {
   "cell_type": "code",
   "execution_count": null,
   "metadata": {},
   "outputs": [],
   "source": [
    "df = pd.read_pickle('df_feature.pkl')\n",
    "df = df.drop(columns=['time_end', 'bearing_id', 'RUL_rolled_class', 'RUL_rolled'])\n",
    "df.to_pickle('df_feature.pkl')"
   ]
  }
 ],
 "metadata": {
  "kernelspec": {
   "display_name": "BAR_TS",
   "language": "python",
   "name": "python3"
  },
  "language_info": {
   "codemirror_mode": {
    "name": "ipython",
    "version": 3
   },
   "file_extension": ".py",
   "mimetype": "text/x-python",
   "name": "python",
   "nbconvert_exporter": "python",
   "pygments_lexer": "ipython3",
   "version": "3.9.17"
  },
  "orig_nbformat": 4
 },
 "nbformat": 4,
 "nbformat_minor": 2
}
